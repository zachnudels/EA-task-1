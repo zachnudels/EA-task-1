{
 "cells": [
  {
   "cell_type": "markdown",
   "metadata": {
    "id": "iFTelaaQHq-N"
   },
   "source": [
    "# Setup"
   ]
  },
  {
   "cell_type": "code",
   "execution_count": 1,
   "metadata": {
    "colab": {
     "base_uri": "https://localhost:8080/"
    },
    "id": "H_5Z7uosCRkR",
    "outputId": "909af9f3-2823-46cf-96d5-609a753ce188"
   },
   "outputs": [],
   "source": [
    "import sys\n",
    "import os\n",
    "import numpy as np\n",
    "# sys.path.append(os.path.abspath('/content/gdrive/MyDrive'))\n",
    "sys.path.insert(0, 'evoman')\n",
    "\n",
    "local_dir = os.path.dirname('evoman') "
   ]
  },
  {
   "cell_type": "code",
   "execution_count": 2,
   "metadata": {
    "colab": {
     "base_uri": "https://localhost:8080/"
    },
    "id": "D_ErHLPoCHog",
    "outputId": "684613a2-f18b-4a18-d66c-996e85eadfd0"
   },
   "outputs": [
    {
     "name": "stdout",
     "output_type": "stream",
     "text": [
      "pygame 2.0.1 (SDL 2.0.14, Python 3.7.8)\n",
      "Hello from the pygame community. https://www.pygame.org/contribute.html\n"
     ]
    }
   ],
   "source": [
    "from environment import Environment"
   ]
  },
  {
   "cell_type": "markdown",
   "metadata": {
    "id": "V2K0N55uJoJG"
   },
   "source": [
    "# Environment"
   ]
  },
  {
   "cell_type": "code",
   "execution_count": 3,
   "metadata": {
    "colab": {
     "base_uri": "https://localhost:8080/"
    },
    "id": "N4QNNC5RJoiG",
    "outputId": "b1300012-887c-4380-de13-596cb32ea282"
   },
   "outputs": [
    {
     "name": "stdout",
     "output_type": "stream",
     "text": [
      "\n",
      "MESSAGE: Pygame initialized for simulation.\n"
     ]
    }
   ],
   "source": [
    "# initializes simulation in individual evolution mode, for single static enemy.\n",
    "os.environ[\"SDL_VIDEODRIVER\"] = \"dummy\"\n",
    "\n",
    "experiment_name = 'individual_demo'\n",
    "env = Environment(experiment_name=experiment_name,\n",
    "                  enemies=[2],\n",
    "                  playermode=\"ai\",\n",
    "                  enemymode=\"static\",\n",
    "                  level=2,\n",
    "                  speed=\"fastest\")\n",
    "\n"
   ]
  },
  {
   "cell_type": "markdown",
   "metadata": {
    "id": "lXlY4iXSfXhH"
   },
   "source": [
    "# NEAT\n"
   ]
  },
  {
   "cell_type": "code",
   "execution_count": 4,
   "metadata": {
    "id": "vCsPZiOnfjer"
   },
   "outputs": [],
   "source": [
    "import neat, multiprocessing, os, pickle\n",
    "from evoman.controller import Controller"
   ]
  },
  {
   "cell_type": "code",
   "execution_count": 5,
   "metadata": {
    "id": "Ssd8htJdsBzD"
   },
   "outputs": [],
   "source": [
    "# def g(x):\n",
    "#   return np.power(2, -(np.square(x / 150)))\n",
    "\n",
    "# def transform_distance(x):\n",
    "#   if x == 0:\n",
    "#     return 0\n",
    "#   elif x > 0:\n",
    "#     return g(x)\n",
    "#   else:\n",
    "#     return -1 * g(x)"
   ]
  },
  {
   "cell_type": "code",
   "execution_count": 6,
   "metadata": {
    "id": "rlK6IgQKqxSm"
   },
   "outputs": [],
   "source": [
    "class rnn_controller(Controller):\n",
    "  def __init__(self, ctrnn, time_const):\n",
    "    self.ctrnn = ctrnn\n",
    "    self.time_const = time_const\n",
    "\n",
    "\n",
    "def control(self, inputs, controller):\n",
    "    # transform bullet distances\n",
    "    for i in range(4, 20):\n",
    "        inputs[i] = transform_distance(inputs[i])\n",
    "\n",
    "    output = ctrnn.advance(inputs, self.time_const, self.time_const)\n",
    "    left, right, jump, shoot, release = 0,0,0,0,0\n",
    "\n",
    "    if output[0] > 0.5:\n",
    "        left = 1\n",
    "    else:\n",
    "        left = 0\n",
    "\n",
    "    if output[1] > 0.5:\n",
    "        right = 1\n",
    "    else:\n",
    "        right = 0\n",
    "\n",
    "    if output[2] > 0.5:\n",
    "        jump = 1\n",
    "    else:\n",
    "        jump = 0\n",
    "\n",
    "    if output[3] > 0.5:\n",
    "        shoot = 1\n",
    "    else:\n",
    "        shoot = 0\n",
    "\n",
    "    if output[4] > 0.5:\n",
    "        release = 1\n",
    "    else:\n",
    "        release = 0\n",
    "\n",
    "    return [left, right, jump, shoot, release]\n",
    "    \n"
   ]
  },
  {
   "cell_type": "code",
   "execution_count": 7,
   "metadata": {
    "id": "VRht9FYcjM9A"
   },
   "outputs": [],
   "source": [
    "TIME_CONST = 0.001\n",
    "runs_per_net = 1\n",
    "\n",
    "def eval_genome(genome, config):\n",
    "  net = neat.ctrnn.CTRNN.create(genome, config, TIME_CONST)\n",
    "  controller = rnn_controller(net, TIME_CONST)\n",
    "\n",
    "  fitnesses = []\n",
    "  for runs in range(runs_per_net):\n",
    "    net.reset()\n",
    "    fitness = 0\n",
    "    f,p,e,t = env.play(pcont=controller)\n",
    "\n",
    "    fitnesses.append(f)\n",
    "\n",
    "\n",
    "  return min(fitnesses)"
   ]
  },
  {
   "cell_type": "code",
   "execution_count": null,
   "metadata": {
    "colab": {
     "base_uri": "https://localhost:8080/",
     "height": 1000
    },
    "id": "7M8Eyr-Bh6-p",
    "outputId": "1679cb60-a1d8-487e-832c-54f692a45bb1"
   },
   "outputs": [
    {
     "name": "stdout",
     "output_type": "stream",
     "text": [
      "STARTING\n",
      "\n",
      " ****** Running generation 0 ****** \n",
      "\n",
      "\n",
      "RUN: run status: enemy: 2; fitness: 39.20698639161586; player life: 0; enemy life: 50.0; time: 328\n",
      "\n",
      "RUN: run status: enemy: 2; fitness: 39.20698639161586; player life: 0; enemy life: 50.0; time: 328\n",
      "\n",
      "RUN: run status: enemy: 2; fitness: 39.20698639161586; player life: 0; enemy life: 50.0; time: 328\n",
      "\n",
      "RUN: run status: enemy: 2; fitness: 39.20698639161586; player life: 0; enemy life: 50.0; time: 328\n",
      "\n",
      "RUN: run status: enemy: 2; fitness: 30.182888840036796; player life: 0; enemy life: 60.0; time: 336\n",
      "\n",
      "RUN: run status: enemy: 2; fitness: 30.182888840036796; player life: 0; enemy life: 60.0; time: 336\n"
     ]
    }
   ],
   "source": [
    "# Ikrame and Jaspreet: uncomment below\n",
    "# n = 100\n",
    "# config_path = os.path.join(local_dir, 'ikrame_jaspreet.cfg')\n",
    "\n",
    "# Zach and Niklas: uncomment below\n",
    "n = 10\n",
    "config_path = os.path.join(local_dir, 'zach_niklas.cfg')\n",
    "\n",
    "# config_path = os.path.join(local_dir, 'default.cfg')\n",
    "\n",
    "config = neat.Config(neat.DefaultGenome, neat.DefaultReproduction, \n",
    "                     neat.DefaultSpeciesSet, neat.DefaultStagnation, \n",
    "                     config_path)\n",
    "\n",
    "\n",
    "print(\"STARTING\")\n",
    "means = []\n",
    "stddevs = []\n",
    "for _ in range(5):\n",
    "  pop = neat.Population(config)\n",
    "  stats = neat.StatisticsReporter()\n",
    "  pop.add_reporter(stats)\n",
    "  pop.add_reporter(neat.StdOutReporter(True))\n",
    "  pe = neat.ParallelEvaluator(multiprocessing.cpu_count(), eval_genome)\n",
    "  winner = pop.run(pe.evaluate, n=n)\n",
    "  means.append(stats.get_fitness_mean())\n",
    "\n",
    "means_np = np.array(means)\n",
    "print(f\"Overall mean: {means_np.mean()}\")\n",
    "print(f\"Overall std: {means_np.std()}\")\n",
    "\n"
   ]
  },
  {
   "cell_type": "code",
   "execution_count": null,
   "metadata": {},
   "outputs": [],
   "source": []
  }
 ],
 "metadata": {
  "colab": {
   "collapsed_sections": [
    "lbslua7eHvLi"
   ],
   "name": "custom_evoman.py",
   "provenance": []
  },
  "kernelspec": {
   "display_name": "Python 3",
   "language": "python",
   "name": "python3"
  },
  "language_info": {
   "codemirror_mode": {
    "name": "ipython",
    "version": 3
   },
   "file_extension": ".py",
   "mimetype": "text/x-python",
   "name": "python",
   "nbconvert_exporter": "python",
   "pygments_lexer": "ipython3",
   "version": "3.7.8"
  }
 },
 "nbformat": 4,
 "nbformat_minor": 1
}
